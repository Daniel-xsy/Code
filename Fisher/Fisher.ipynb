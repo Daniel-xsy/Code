{
 "cells": [
  {
   "cell_type": "code",
   "execution_count": 159,
   "source": [
    "import numpy as np\r\n",
    "import matplotlib.pyplot as plt"
   ],
   "outputs": [],
   "metadata": {}
  },
  {
   "cell_type": "code",
   "execution_count": 160,
   "source": [
    "class Dataset:\r\n",
    "    def __init__(self, mode='given', means1=[-5, 0], means2=[0, 5]):\r\n",
    "        if mode == 'given':\r\n",
    "            self._given_data()\r\n",
    "        if mode == 'random':\r\n",
    "            self._rand_sample(means1, means2)\r\n",
    "\r\n",
    "    def _rand_sample(self, means1, means2):\r\n",
    "        means1 = np.array(means1)\r\n",
    "        means2 = np.array(means2)\r\n",
    "        covar = np.array([1, 0, 0, 1]).reshape(2,2)\r\n",
    "        x1 = np.random.multivariate_normal(means1, covar, size=200)\r\n",
    "        x2 = np.random.multivariate_normal(means2, covar, size=200)\r\n",
    "        y1 = np.ones((200, 1))\r\n",
    "        y2 = np.ones((200, 1)) * -1\r\n",
    "        self._split(x1, y1, x2, y2)\r\n",
    "\r\n",
    "    def _split(self, x1, y1, x2, y2):\r\n",
    "        num1 = x1.shape[0]\r\n",
    "        train_num1 = int(num1 * 0.8)\r\n",
    "        num2 = x2.shape[0]\r\n",
    "        train_num2 = int(num2 * 0.8)\r\n",
    "\r\n",
    "        self.x_train = np.concatenate((x1[:train_num1],x2[:train_num2]),axis=0)\r\n",
    "        self.y_train = np.concatenate((y1[:train_num1],y2[:train_num2]),axis=0)\r\n",
    "        self.x_test = np.concatenate((x1[train_num1:],x2[train_num2:]),axis=0)\r\n",
    "        self.y_test = np.concatenate((y1[train_num1:],y2[train_num2:]),axis=0)\r\n",
    "\r\n",
    "    def _given_data(self):\r\n",
    "        x = [5, 37,\r\n",
    "             7, 30, \r\n",
    "             10, 35, \r\n",
    "             11.5, 40, \r\n",
    "             14, 38, \r\n",
    "             12, 31, \r\n",
    "             35, 21.5, \r\n",
    "             39, 21.7, \r\n",
    "             34, 16, \r\n",
    "             37, 17]\r\n",
    "        y = [1,1,1,1,1,1,-1,-1,-1,-1]\r\n",
    "        self.x = np.array(x).reshape(-1,2)\r\n",
    "        self.y = np.array(y).reshape(-1,1)\r\n",
    "        assert(self.x.shape[0] == self.y.shape[0])"
   ],
   "outputs": [],
   "metadata": {}
  },
  {
   "cell_type": "code",
   "execution_count": 161,
   "source": [
    "class Fisher:\r\n",
    "    def __init__(self):\r\n",
    "        self.w = np.zeros((2,1))\r\n",
    "        self.thresh = 0\r\n",
    "\r\n",
    "    def train(self, x, y):\r\n",
    "        assert(x.shape[0] == y.shape[0])\r\n",
    "        y = y.flatten()\r\n",
    "\r\n",
    "        cls1_idx = np.where(y == 1)\r\n",
    "        cls2_idx = np.where(y == -1)\r\n",
    "        c1 = x[cls1_idx].T\r\n",
    "        c2 = x[cls2_idx].T\r\n",
    "        \r\n",
    "        mean1 = np.mean(c1, axis=-1)\r\n",
    "        mean2 = np.mean(c2, axis=-1)\r\n",
    "        covar1 = np.cov(c1)\r\n",
    "        covar2 = np.cov(c2)\r\n",
    "\r\n",
    "        sw = covar1 + covar2\r\n",
    "        self.w = np.matmul(np.linalg.inv(sw), (mean1 - mean2))\r\n",
    "        self.thresh = np.matmul(self.w.T, mean1 + mean2) / 2\r\n",
    "        ## print('c1: {}'.format(c1))\r\n",
    "        ## print('c2: {}'.format(c2))\r\n",
    "        print('covar1: {}'.format(covar1))\r\n",
    "        print('covar2: {}'.format(covar2))\r\n",
    "        print('mean1: {}'.format(mean1))\r\n",
    "        print('mean2: {}'.format(mean2))\r\n",
    "        print('\\nOver training!')\r\n",
    "        print('w: {}'.format(self.w))\r\n",
    "        print('thereshold: {}'.format(self.thresh))\r\n",
    "\r\n",
    "        return self.w, self.thresh\r\n",
    "\r\n",
    "    def eval(self, x, y):\r\n",
    "        assert(x.shape[0] == y.shape[0])\r\n",
    "        \r\n",
    "        yhat = np.matmul(x, self.w)\r\n",
    "        yhat = np.sign(yhat - self.thresh)\r\n",
    "        yhat = yhat.reshape(-1,1)\r\n",
    "        correct_num = len(np.where((yhat - y) == 0)[1])\r\n",
    "        accuracy = correct_num / y.shape[0]\r\n",
    "        print('accuracy: %.2f'%accuracy)\r\n",
    "\r\n"
   ],
   "outputs": [],
   "metadata": {}
  },
  {
   "cell_type": "markdown",
   "source": [
    "生成数据集"
   ],
   "metadata": {}
  },
  {
   "cell_type": "code",
   "execution_count": 162,
   "source": [
    "dataset = Dataset(mode='random')\r\n",
    "x_train = dataset.x_train\r\n",
    "y_train = dataset.y_train\r\n",
    "x_test = dataset.x_test\r\n",
    "y_test = dataset.y_test\r\n",
    "\r\n",
    "print(\"x_train: {}\".format(x_train.shape))\r\n",
    "print(\"y_train: {}\".format(y_train.shape))\r\n",
    "print(\"x_test: {}\".format(x_test.shape))\r\n",
    "print(\"y_test: {}\".format(y_test.shape))\r\n",
    "c1 = plt.scatter(x_train[:160,0], x_train[:160,1], alpha=0.3, marker='o', c='red')\r\n",
    "c2 = plt.scatter(x_train[160:,0], x_train[160:,1], alpha=0.3, marker='o', c='blue')\r\n",
    "c3 = plt.scatter(x_test[:40,0], x_test[:40,1], alpha=0.6, marker='x', c='red')\r\n",
    "c4 = plt.scatter(x_test[40:,0], x_test[40:,1], alpha=0.6, marker='x', c='blue')\r\n",
    "plt.legend(handles=[c1, c2, c3, c4],labels=['1_train','2_train', '1_test', '2_test'],loc='best')\r\n",
    "plt.show()"
   ],
   "outputs": [
    {
     "output_type": "stream",
     "name": "stdout",
     "text": [
      "x_train: (320, 2)\n",
      "y_train: (320, 1)\n",
      "x_test: (80, 2)\n",
      "y_test: (80, 1)\n"
     ]
    },
    {
     "output_type": "display_data",
     "data": {
      "image/png": "[encoded data removed]",
      "text/plain": [
       "<Figure size 432x288 with 1 Axes>"
      ]
     },
     "metadata": {
      "needs_background": "light"
     }
    }
   ],
   "metadata": {}
  },
  {
   "cell_type": "markdown",
   "source": [
    "使用训练集训练Fisher线性判别器，并输出训练得到的w和threshold，最后打印在训练集上的准确率"
   ],
   "metadata": {}
  },
  {
   "cell_type": "code",
   "execution_count": 163,
   "source": [
    "classifier = Fisher()\r\n",
    "w, thresh = classifier.train(x_train, y_train)\r\n",
    "classifier.eval(x_train, y_train)"
   ],
   "outputs": [
    {
     "output_type": "stream",
     "name": "stdout",
     "text": [
      "covar1: [[ 1.13717172 -0.0498508 ]\n",
      " [-0.0498508   1.00904563]]\n",
      "covar2: [[0.9880734  0.02352414]\n",
      " [0.02352414 0.9370434 ]]\n",
      "mean1: [-4.91250869 -0.07985864]\n",
      "mean2: [0.07087093 5.08384965]\n",
      "\n",
      "Over training!\n",
      "w: [-2.3781168  -2.68554833]\n",
      "thereshold: -0.9622397940870888\n",
      "accuracy: 1.00\n"
     ]
    }
   ],
   "metadata": {}
  },
  {
   "cell_type": "markdown",
   "source": [
    "可以看出，在训练Fisher判别器时，其输出的协方差矩阵和均值基本等于随机生成该数据集时的给定参数"
   ],
   "metadata": {}
  },
  {
   "cell_type": "markdown",
   "source": [
    "测试其在测试集上的准确率"
   ],
   "metadata": {}
  },
  {
   "cell_type": "code",
   "execution_count": 164,
   "source": [
    "classifier.eval(x_test, y_test)"
   ],
   "outputs": [
    {
     "output_type": "stream",
     "name": "stdout",
     "text": [
      "accuracy: 1.00\n"
     ]
    }
   ],
   "metadata": {}
  }
 ],
 "metadata": {
  "orig_nbformat": 4,
  "language_info": {
   "name": "python",
   "version": "3.8.3",
   "mimetype": "text/x-python",
   "codemirror_mode": {
    "name": "ipython",
    "version": 3
   },
   "pygments_lexer": "ipython3",
   "nbconvert_exporter": "python",
   "file_extension": ".py"
  },
  "kernelspec": {
   "name": "python3",
   "display_name": "Python 3.8.3 64-bit ('base': conda)"
  },
  "interpreter": {
   "hash": "7b4b4feff2f24a0f0a34464dbe537a36fda679851528fb8735cb41fa49dffb2d"
  }
 },
 "nbformat": 4,
 "nbformat_minor": 2
}